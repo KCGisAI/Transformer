{
 "cells": [
  {
   "cell_type": "markdown",
   "metadata": {
    "id": "ymxatB5WYxlL"
   },
   "source": [
    "# Transformer\n",
    "\n",
    "감정 분석 task에 RNN 대신 Transformer를 구현하여 적용"
   ]
  },
  {
   "cell_type": "code",
   "execution_count": 128,
   "metadata": {
    "id": "1X7RM2du1zcr",
    "outputId": "d55cac8d-975b-4f67-a2f0-6b09565650c1"
   },
   "outputs": [],
   "source": [
    "import torch, gc\n",
    "gc.collect()\n",
    "torch.cuda.empty_cache()"
   ]
  },
  {
   "cell_type": "code",
   "execution_count": 129,
   "metadata": {
    "id": "HOdhoBVA1zcu",
    "scrolled": true
   },
   "outputs": [
    {
     "name": "stderr",
     "output_type": "stream",
     "text": [
      "Using cache found in C:\\Users\\suzuk/.cache\\torch\\hub\\huggingface_pytorch-transformers_main\n"
     ]
    }
   ],
   "source": [
    "import matplotlib.pyplot as plt\n",
    "import torch\n",
    "from datasets import load_dataset\n",
    "from torch.utils.data import DataLoader\n",
    "from transformers import BertTokenizerFast\n",
    "from torch.nn.utils.rnn import pad_sequence\n",
    "from tokenizers import (\n",
    "    decoders,\n",
    "    models,\n",
    "    normalizers,\n",
    "    pre_tokenizers,\n",
    "    processors,\n",
    "    trainers,\n",
    "    Tokenizer,\n",
    ")\n",
    "\n",
    "\n",
    "ds = load_dataset(\"stanfordnlp/imdb\")\n",
    "tokenizer = torch.hub.load('huggingface/pytorch-transformers', 'tokenizer', 'bert-base-uncased')\n",
    "\n",
    "\n",
    "def collate_fn(batch):\n",
    "    max_len = 400\n",
    "    texts, labels = [], []\n",
    "    \n",
    "    for row in batch:\n",
    "        # 문자열 텍스트를 토큰화하고 ID로 변환\n",
    "        tokens = tokenizer.encode(row['text'], add_special_tokens=True, truncation=True, max_length=max_len)\n",
    "\n",
    "        if len(tokens) > 1:\n",
    "            labels.append(tokens[-2])  # 마지막 단어의 ID를 레이블로 사용\n",
    "            texts.append(tokens[:-2])   # 마지막 단어를 제외한 텍스트\n",
    "\n",
    "    # 패딩 처리\n",
    "    if texts:\n",
    "        # 각 텍스트를 max_len으로 패딩 처리\n",
    "        texts = pad_sequence([torch.tensor(t, dtype=torch.long)[:max_len] for t in texts], batch_first=True)\n",
    "        labels = torch.tensor(labels, dtype=torch.long)  # 레이블도 LongTensor로 변환\n",
    "    else:\n",
    "        # 빈 배치의 경우 None 반환\n",
    "        return None, None\n",
    "\n",
    "    return texts, labels\n",
    "    \n",
    "# DataLoader에 대한 설정\n",
    "train_loader = DataLoader(ds['train'], batch_size=64, shuffle=True, collate_fn=collate_fn)\n",
    "test_loader = DataLoader(ds['test'], batch_size=64, shuffle=False, collate_fn=collate_fn)"
   ]
  },
  {
   "cell_type": "code",
   "execution_count": 130,
   "metadata": {
    "id": "MBlMVMZcRAxv"
   },
   "outputs": [
    {
     "name": "stderr",
     "output_type": "stream",
     "text": [
      "<>:13: SyntaxWarning: \"is not\" with a literal. Did you mean \"!=\"?\n",
      "<>:13: SyntaxWarning: \"is not\" with a literal. Did you mean \"!=\"?\n",
      "C:\\Users\\suzuk\\AppData\\Local\\Temp\\ipykernel_1576\\2979245485.py:13: SyntaxWarning: \"is not\" with a literal. Did you mean \"!=\"?\n",
      "  except round(d_model/n_heads,0) % n_heads is not 0:\n"
     ]
    }
   ],
   "source": [
    "from torch import nn\n",
    "from math import sqrt\n",
    "\n",
    "\n",
    "class MultiHeadAttention(nn.Module):\n",
    "    #input_dim = 임베딩 차원 / d_model = q,k,v가 가질 차원의 크기\n",
    "  def __init__(self, input_dim, d_model, n_heads):\n",
    "    super().__init__()\n",
    "    try:\n",
    "        self.input_dim = input_dim\n",
    "        self.d_prime_model = int(round(d_model/n_heads,0))\n",
    "        self.n_heads = n_heads\n",
    "    except round(d_model/n_heads,0) % n_heads is not 0:\n",
    "        print('round(d_model/n_heads,0) % n_heads is not 0')\n",
    "        \n",
    "    self.wq = nn.Linear(input_dim, d_model) #쿼리벡터 생성\n",
    "    self.wk = nn.Linear(input_dim, d_model) #키 벡터 생성\n",
    "    self.wv = nn.Linear(input_dim, d_model) #밸류 벡터 생성\n",
    "    self.dense = nn.Linear(d_model, d_model) #어텐션 최종 out 을 위해.\n",
    "    self.softmax = nn.Softmax(dim=-1)\n",
    "    \n",
    "\n",
    "  def forward(self, x, mask):   \n",
    "    q, k, v = self.wq(x), self.wk(x), self.wv(x)\n",
    "    # B S H D' 에서 B H S D'으로 변경 필요\n",
    "    # B S H D' 은 batch 안에 sequentioal가 key인 H vs D' 행렬이 존재하므로 Head가 종속적\n",
    "    # B H S D'은 batch 안에 head가 key 인 S vs D' 행렬이 존재 하므로 Head가 독립적\n",
    "    q = q.view(q.shape[0], q.shape[1], self.n_heads, self.d_prime_model).transpose(1,2)\n",
    "    k = k.view(k.shape[0], k.shape[1], self.n_heads, self.d_prime_model).transpose(1,2)\n",
    "    v = v.view(v.shape[0], v.shape[1], self.n_heads, self.d_prime_model).transpose(1,2)\n",
    "\n",
    "    # B H S D' * B H D' S = B H S S\n",
    "    # 각 head에 따른 상관도를 확인 가능\n",
    "    score = torch.matmul(q, k.transpose(-1, -2)) \n",
    "    score = score / sqrt(self.d_prime_model)\n",
    "    \n",
    "    if mask is not None:\n",
    "    #마스크가 있다면 실행, 마스크가 있는곳은 1로 되어져있으므로 가장 작은수를 곱하고 더함\n",
    "    #soft max 함수 이후에 0에 근사함\n",
    "    #mask(B S S) 와 현 score(B H S S) 텐서 형식이 다르므로 통일 해줘야함.\n",
    "        mask = mask.unsqueeze(1)\n",
    "    #unsqueeze를 통해 B 1 S S로 만듬\n",
    "        score = score + (mask * -1e9)\n",
    "\n",
    "    score = self.softmax(score) # B H S S\n",
    "    result = torch.matmul(score, v) # B H S D'\n",
    "    result = result.transpose(1,2).contiguous()\n",
    "    result = result.view(result.shape[0], result.shape[1], -1) # B S D\n",
    "    result = self.dense(result)\n",
    "    return result"
   ]
  },
  {
   "cell_type": "code",
   "execution_count": 131,
   "metadata": {
    "id": "VZHPCn9AS5Gp"
   },
   "outputs": [],
   "source": [
    "class TransformerLayer(nn.Module):\n",
    "  def __init__(self, input_dim, d_model, dff, dropout):\n",
    "    super().__init__()\n",
    "\n",
    "    self.input_dim = input_dim\n",
    "    self.d_model = d_model\n",
    "    self.dff = dff\n",
    "\n",
    "    self.MHA = MultiHeadAttention(input_dim, d_model, 4)\n",
    "    self.ffn = nn.Sequential(\n",
    "      nn.Linear(d_model, dff),\n",
    "      nn.ReLU(),\n",
    "      nn.Linear(dff, d_model)\n",
    "    )\n",
    "    self.dropout1 = nn.Dropout(p=dropout)  # 적절한 p 값을 설정\n",
    "    self.dropout2 = nn.Dropout(p=dropout)  # 적절한 p 값을 설정\n",
    "\n",
    "    self.layer_norm1 = nn.LayerNorm(d_model)  # Layer Normalization 정의\n",
    "    self.layer_norm2 = nn.LayerNorm(d_model)  # Layer Normalization 정의\n",
    "\n",
    "  def forward(self, x, mask):\n",
    "    x1 = self.MHA(x, mask)\n",
    "    x1 = self.dropout1(x1)\n",
    "    x1 = self.layer_norm1(x1 + x)\n",
    "\n",
    "    x2 = self.ffn(x)\n",
    "    x2 = self.dropout2(x2)\n",
    "    x2 = self.layer_norm2(x2 + x1)\n",
    "\n",
    "    return x2"
   ]
  },
  {
   "cell_type": "code",
   "execution_count": 132,
   "metadata": {
    "colab": {
     "base_uri": "https://localhost:8080/"
    },
    "executionInfo": {
     "elapsed": 16,
     "status": "ok",
     "timestamp": 1723896343031,
     "user": {
      "displayName": "조승혁",
      "userId": "15759752471844115325"
     },
     "user_tz": -540
    },
    "id": "Uf_jMQWDUR79",
    "outputId": "534712be-1522-4d32-81b7-87f50a6f1f2a"
   },
   "outputs": [
    {
     "name": "stdout",
     "output_type": "stream",
     "text": [
      "torch.Size([1, 400, 256])\n"
     ]
    }
   ],
   "source": [
    "import numpy as np\n",
    "\n",
    "def get_angles(pos, i, d_model):\n",
    "    angle_rates = 1 / np.power(10000, (2 * (i // 2)) / np.float32(d_model))\n",
    "    return pos * angle_rates\n",
    "\n",
    "def positional_encoding(position, d_model):\n",
    "    angle_rads = get_angles(np.arange(position)[:, None], np.arange(d_model)[None, :], d_model)\n",
    "    angle_rads[:, 0::2] = np.sin(angle_rads[:, 0::2])\n",
    "    angle_rads[:, 1::2] = np.cos(angle_rads[:, 1::2])\n",
    "    pos_encoding = angle_rads[None, ...]\n",
    "\n",
    "    return torch.FloatTensor(pos_encoding)\n",
    "\n",
    "\n",
    "max_len = 400\n",
    "print(positional_encoding(max_len, 256).shape)"
   ]
  },
  {
   "cell_type": "code",
   "execution_count": 133,
   "metadata": {
    "id": "8MaiCGh8TsDH"
   },
   "outputs": [],
   "source": [
    "class TextClassifier(nn.Module):\n",
    "    def __init__(self, vocab_size, d_model, n_layers, dff, dropout):\n",
    "        super().__init__()\n",
    "\n",
    "        self.vocab_size = vocab_size\n",
    "        self.d_model = d_model\n",
    "        self.n_layers = n_layers\n",
    "        self.dff = dff\n",
    "\n",
    "        self.embedding = nn.Embedding(vocab_size, d_model)\n",
    "        self.pos_encoding = nn.Parameter(positional_encoding(400, d_model), requires_grad=False)  # max_len을 400으로 설정\n",
    "        self.layers = nn.ModuleList([TransformerLayer(d_model, d_model, dff, dropout) for _ in range(n_layers)])\n",
    "        self.classification = nn.Linear(d_model, vocab_size)\n",
    "\n",
    "    def forward(self, x):\n",
    "        seq_len = x.shape[1]  # 동적으로 seq_len 설정\n",
    "        mask = (x == tokenizer.pad_token_id)\n",
    "        mask = mask[:, None, :]\n",
    "        \n",
    "        x = self.embedding(x)\n",
    "        x = x * sqrt(self.d_model)\n",
    "\n",
    "        # pos_encoding 크기를 seq_len에 맞게 조정\n",
    "        pos_encoding = self.pos_encoding[:, :seq_len]\n",
    "        x = x + pos_encoding\n",
    "\n",
    "        for layer in self.layers:\n",
    "            x = layer(x, mask)\n",
    "\n",
    "        x = x[:, 0]  # 첫 번째 토큰에 대한 출력을 가져옵니다.\n",
    "        x = self.classification(x)\n",
    "\n",
    "        return x"
   ]
  },
  {
   "cell_type": "code",
   "execution_count": 134,
   "metadata": {
    "id": "YHVVsWBPQmnv",
    "outputId": "64b5790f-7649-4a47-95f8-bebe158aba4f"
   },
   "outputs": [],
   "source": [
    "from torch.optim import Adam\n",
    "\n",
    "lr = 0.001\n",
    "loss_fn = nn.CrossEntropyLoss()"
   ]
  },
  {
   "cell_type": "code",
   "execution_count": 135,
   "metadata": {
    "id": "r88BALxO1zc1"
   },
   "outputs": [],
   "source": [
    "import numpy as np\n",
    "import matplotlib.pyplot as plt\n",
    "\n",
    "def accuracy(model, dataloader):\n",
    "  cnt = 0\n",
    "  acc = 0\n",
    "\n",
    "  for data in dataloader:\n",
    "    inputs, labels = data\n",
    "    inputs, labels = inputs.to('cuda'), labels.to('cuda')\n",
    "\n",
    "    preds = model(inputs)\n",
    "    preds = torch.argmax(preds, dim=-1)\n",
    "    # preds = (preds > 0).long()[..., 0]\n",
    "\n",
    "    cnt += labels.shape[0]\n",
    "    acc += (labels == preds).sum().item()\n",
    "\n",
    "  return acc / cnt"
   ]
  },
  {
   "cell_type": "code",
   "execution_count": 136,
   "metadata": {},
   "outputs": [],
   "source": [
    "train_acc_list = []\n",
    "test_acc_list = []\n",
    "#vocab_size, d_model, n_layers, dff, dropout\n",
    "def train_and_test(n_epochs, dropout):\n",
    "    model = TextClassifier(len(tokenizer), 128, 5, 512, dropout)\n",
    "    model = model.to('cuda')\n",
    "    optimizer = Adam(model.parameters(), lr=lr)\n",
    "    \n",
    "    n_epochs = n_epochs\n",
    "\n",
    "    for epoch in range(n_epochs):\n",
    "        total_loss = 0.\n",
    "        model.train()\n",
    "        \n",
    "        for data in train_loader:\n",
    "            model.zero_grad()\n",
    "            inputs, labels = data\n",
    "            inputs, labels = inputs.to('cuda'), labels.to('cuda')\n",
    "            preds = model(inputs)\n",
    "            loss = loss_fn(preds, labels) \n",
    "            loss.backward()\n",
    "            optimizer.step()\n",
    "            total_loss += loss.item()\n",
    "        \n",
    "      \n",
    "        print(f\"Epoch {epoch:3d} | Train Loss: {total_loss/len(train_loader)}\")\n",
    "        \n",
    "        with torch.no_grad():\n",
    "            model.eval()\n",
    "            train_acc = accuracy(model, train_loader)\n",
    "            test_acc = accuracy(model, test_loader)\n",
    "            print(f\"=========> Train acc: {train_acc:.3f} | Test acc: {test_acc:.3f}\")\n",
    "            train_acc_list.append(train_acc*100)\n",
    "            test_acc_list.append(test_acc*100)"
   ]
  },
  {
   "cell_type": "code",
   "execution_count": 137,
   "metadata": {
    "scrolled": true
   },
   "outputs": [
    {
     "name": "stdout",
     "output_type": "stream",
     "text": [
      "Epoch   0 | Train Loss: 3.5560460218688106\n",
      "=========> Train acc: 0.558 | Test acc: 0.564\n",
      "Epoch   1 | Train Loss: 3.068231926549731\n",
      "=========> Train acc: 0.558 | Test acc: 0.564\n",
      "Epoch   2 | Train Loss: 2.994969775914536\n",
      "=========> Train acc: 0.558 | Test acc: 0.564\n",
      "Epoch   3 | Train Loss: 2.94641284473107\n",
      "=========> Train acc: 0.558 | Test acc: 0.564\n",
      "Epoch   4 | Train Loss: 2.7630850369363187\n",
      "=========> Train acc: 0.557 | Test acc: 0.556\n",
      "Epoch   5 | Train Loss: 2.704395614621584\n",
      "=========> Train acc: 0.547 | Test acc: 0.546\n",
      "Epoch   6 | Train Loss: 2.6633032563397343\n",
      "=========> Train acc: 0.542 | Test acc: 0.532\n",
      "Epoch   7 | Train Loss: 2.6424654359402866\n",
      "=========> Train acc: 0.559 | Test acc: 0.549\n",
      "Epoch   8 | Train Loss: 2.60858561925571\n",
      "=========> Train acc: 0.555 | Test acc: 0.543\n",
      "Epoch   9 | Train Loss: 2.5930990739856536\n",
      "=========> Train acc: 0.556 | Test acc: 0.543\n",
      "Epoch  10 | Train Loss: 2.5763313849563794\n",
      "=========> Train acc: 0.555 | Test acc: 0.541\n",
      "Epoch  11 | Train Loss: 2.559167745168252\n",
      "=========> Train acc: 0.548 | Test acc: 0.532\n",
      "Epoch  12 | Train Loss: 2.5418323638189175\n",
      "=========> Train acc: 0.536 | Test acc: 0.517\n",
      "Epoch  13 | Train Loss: 2.5277121731692263\n",
      "=========> Train acc: 0.565 | Test acc: 0.552\n",
      "Epoch  14 | Train Loss: 2.5021761677149312\n",
      "=========> Train acc: 0.550 | Test acc: 0.526\n",
      "Epoch  15 | Train Loss: 2.488522748203229\n",
      "=========> Train acc: 0.545 | Test acc: 0.518\n",
      "Epoch  16 | Train Loss: 2.4706001214664\n",
      "=========> Train acc: 0.530 | Test acc: 0.499\n",
      "Epoch  17 | Train Loss: 2.450191398410846\n",
      "=========> Train acc: 0.568 | Test acc: 0.555\n",
      "Epoch  18 | Train Loss: 2.4328485154129966\n",
      "=========> Train acc: 0.547 | Test acc: 0.509\n",
      "Epoch  19 | Train Loss: 2.413699755888156\n",
      "=========> Train acc: 0.560 | Test acc: 0.524\n",
      "Epoch  20 | Train Loss: 2.4023703434278287\n",
      "=========> Train acc: 0.537 | Test acc: 0.498\n",
      "Epoch  21 | Train Loss: 2.38296424275469\n",
      "=========> Train acc: 0.555 | Test acc: 0.515\n",
      "Epoch  22 | Train Loss: 2.3622601273114725\n",
      "=========> Train acc: 0.539 | Test acc: 0.491\n",
      "Epoch  23 | Train Loss: 2.3431754972013974\n",
      "=========> Train acc: 0.564 | Test acc: 0.517\n",
      "Epoch  24 | Train Loss: 2.336865662613793\n",
      "=========> Train acc: 0.563 | Test acc: 0.518\n",
      "Epoch  25 | Train Loss: 2.3131678695873834\n",
      "=========> Train acc: 0.506 | Test acc: 0.464\n",
      "Epoch  26 | Train Loss: 2.2967386459145707\n",
      "=========> Train acc: 0.538 | Test acc: 0.487\n",
      "Epoch  27 | Train Loss: 2.2753166938986618\n",
      "=========> Train acc: 0.527 | Test acc: 0.480\n",
      "Epoch  28 | Train Loss: 2.2635670068014004\n",
      "=========> Train acc: 0.549 | Test acc: 0.497\n",
      "Epoch  29 | Train Loss: 2.250134502835286\n",
      "=========> Train acc: 0.551 | Test acc: 0.500\n",
      "Epoch  30 | Train Loss: 2.2355286419544074\n",
      "=========> Train acc: 0.537 | Test acc: 0.481\n",
      "Epoch  31 | Train Loss: 2.207895490519531\n",
      "=========> Train acc: 0.542 | Test acc: 0.486\n",
      "Epoch  32 | Train Loss: 2.1959780285425503\n",
      "=========> Train acc: 0.509 | Test acc: 0.454\n",
      "Epoch  33 | Train Loss: 2.1926721392385184\n",
      "=========> Train acc: 0.553 | Test acc: 0.488\n",
      "Epoch  34 | Train Loss: 2.1730894435702077\n",
      "=========> Train acc: 0.553 | Test acc: 0.491\n",
      "Epoch  35 | Train Loss: 2.160836227104792\n",
      "=========> Train acc: 0.562 | Test acc: 0.502\n",
      "Epoch  36 | Train Loss: 2.148972785381405\n",
      "=========> Train acc: 0.537 | Test acc: 0.472\n",
      "Epoch  37 | Train Loss: 2.129301626054222\n",
      "=========> Train acc: 0.547 | Test acc: 0.480\n",
      "Epoch  38 | Train Loss: 2.112041545645965\n",
      "=========> Train acc: 0.542 | Test acc: 0.476\n",
      "Epoch  39 | Train Loss: 2.0946460355578176\n",
      "=========> Train acc: 0.534 | Test acc: 0.463\n",
      "Epoch  40 | Train Loss: 2.074436681349869\n",
      "=========> Train acc: 0.533 | Test acc: 0.460\n",
      "Epoch  41 | Train Loss: 2.067570865306708\n",
      "=========> Train acc: 0.559 | Test acc: 0.487\n",
      "Epoch  42 | Train Loss: 2.0313968463322087\n",
      "=========> Train acc: 0.552 | Test acc: 0.460\n",
      "Epoch  43 | Train Loss: 2.014567194997197\n",
      "=========> Train acc: 0.547 | Test acc: 0.457\n",
      "Epoch  44 | Train Loss: 2.007943225333758\n",
      "=========> Train acc: 0.557 | Test acc: 0.465\n",
      "Epoch  45 | Train Loss: 1.9868750620985884\n",
      "=========> Train acc: 0.565 | Test acc: 0.470\n",
      "Epoch  46 | Train Loss: 1.9614365247204482\n",
      "=========> Train acc: 0.538 | Test acc: 0.441\n",
      "Epoch  47 | Train Loss: 1.9620747191216938\n",
      "=========> Train acc: 0.527 | Test acc: 0.429\n",
      "Epoch  48 | Train Loss: 1.9363730749510744\n",
      "=========> Train acc: 0.550 | Test acc: 0.444\n",
      "Epoch  49 | Train Loss: 1.9225646236058695\n",
      "=========> Train acc: 0.523 | Test acc: 0.417\n"
     ]
    }
   ],
   "source": [
    "import numpy as np\n",
    "train_and_test(50, 0.4)"
   ]
  },
  {
   "cell_type": "code",
   "execution_count": 138,
   "metadata": {},
   "outputs": [
    {
     "data": {
      "image/png": "[encoded data removed]",
      "text/plain": [
       "<Figure size 640x480 with 1 Axes>"
      ]
     },
     "metadata": {},
     "output_type": "display_data"
    }
   ],
   "source": [
    "plt.plot(train_acc_list, label = 'Train Acc')\n",
    "plt.plot(test_acc_list, label = 'Test Acc')\n",
    "plt.legend()\n",
    "plt.show()"
   ]
  },
  {
   "cell_type": "code",
   "execution_count": null,
   "metadata": {},
   "outputs": [],
   "source": []
  }
 ],
 "metadata": {
  "accelerator": "GPU",
  "colab": {
   "gpuType": "T4",
   "provenance": []
  },
  "kernelspec": {
   "display_name": "Python 3 (ipykernel)",
   "language": "python",
   "name": "python3"
  },
  "language_info": {
   "codemirror_mode": {
    "name": "ipython",
    "version": 3
   },
   "file_extension": ".py",
   "mimetype": "text/x-python",
   "name": "python",
   "nbconvert_exporter": "python",
   "pygments_lexer": "ipython3",
   "version": "3.11.7"
  }
 },
 "nbformat": 4,
 "nbformat_minor": 4
}
